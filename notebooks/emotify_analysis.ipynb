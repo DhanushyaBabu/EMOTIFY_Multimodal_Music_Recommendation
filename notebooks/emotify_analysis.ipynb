{
 "cells": [
  {
   "cell_type": "markdown",
   "metadata": {},
   "source": [
    "# Emotify - Music Emotion Analysis\n",
    "\n",
    "This notebook demonstrates the capabilities of the Emotify music recommendation system.\n",
    "\n",
    "## Features\n",
    "- Text-based emotion detection\n",
    "- Audio feature analysis\n",
    "- Music recommendation algorithms\n",
    "- Data visualization"
   ]
  },
  {
   "cell_type": "code",
   "execution_count": null,
   "metadata": {},
   "outputs": [],
   "source": [
    "# Import required libraries\n",
    "import sys\n",
    "import os\n",
    "sys.path.append('../src')\n",
    "\n",
    "import pandas as pd\n",
    "import numpy as np\n",
    "import matplotlib.pyplot as plt\n",
    "import seaborn as sns\n",
    "\n",
    "from emotion_detection.text_emotion import TextEmotionDetector\n",
    "from emotion_detection.audio_emotion import AudioEmotionDetector\n",
    "from recommendation_engine.recommender import EmotionBasedRecommender\n",
    "from data_processing.data_utils import DataProcessor"
   ]
  },
  {
   "cell_type": "markdown",
   "metadata": {},
   "source": [
    "## 1. Text Emotion Detection"
   ]
  },
  {
   "cell_type": "code",
   "execution_count": null,
   "metadata": {},
   "outputs": [],
   "source": [
    "# Initialize text emotion detector\n",
    "text_detector = TextEmotionDetector()\n",
    "\n",
    "# Test with sample texts\n",
    "test_texts = [\n",
    "    \"I'm feeling really happy and excited today!\",\n",
    "    \"This is such a sad and depressing day\",\n",
    "    \"I need some calm and relaxing music\",\n",
    "    \"Let's get pumped up with energetic beats!\"\n",
    "]\n",
    "\n",
    "results = []\n",
    "for text in test_texts:\n",
    "    result = text_detector.predict(text)\n",
    "    results.append({\n",
    "        'text': text,\n",
    "        'emotion': result['emotion'],\n",
    "        'confidence': result['confidence']\n",
    "    })\n",
    "\n",
    "results_df = pd.DataFrame(results)\n",
    "print(results_df)"
   ]
  },
  {
   "cell_type": "markdown",
   "metadata": {},
   "source": [
    "## 2. Music Dataset Analysis"
   ]
  },
  {
   "cell_type": "code",
   "execution_count": null,
   "metadata": {},
   "outputs": [],
   "source": [
    "# Load sample dataset\n",
    "recommender = EmotionBasedRecommender('../data/datasets/sample_songs.csv')\n",
    "songs_df = recommender.songs_df\n",
    "\n",
    "print(f\"Dataset shape: {songs_df.shape}\")\n",
    "print(f\"Columns: {list(songs_df.columns)}\")\n",
    "print(f\"\\nEmotion distribution:\")\n",
    "print(songs_df['emotion'].value_counts())"
   ]
  },
  {
   "cell_type": "markdown",
   "metadata": {},
   "source": [
    "## 3. Audio Feature Visualization"
   ]
  },
  {
   "cell_type": "code",
   "execution_count": null,
   "metadata": {},
   "outputs": [],
   "source": [
    "# Create visualizations\n",
    "plt.figure(figsize=(15, 10))\n",
    "\n",
    "# Emotion distribution\n",
    "plt.subplot(2, 3, 1)\n",
    "songs_df['emotion'].value_counts().plot(kind='bar')\n",
    "plt.title('Emotion Distribution')\n",
    "plt.xticks(rotation=45)\n",
    "\n",
    "# Valence vs Arousal\n",
    "plt.subplot(2, 3, 2)\n",
    "for emotion in songs_df['emotion'].unique():\n",
    "    subset = songs_df[songs_df['emotion'] == emotion]\n",
    "    plt.scatter(subset['valence'], subset['arousal'], label=emotion, alpha=0.7)\n",
    "plt.xlabel('Valence')\n",
    "plt.ylabel('Arousal')\n",
    "plt.title('Valence-Arousal Space')\n",
    "plt.legend()\n",
    "\n",
    "# Tempo distribution\n",
    "plt.subplot(2, 3, 3)\n",
    "plt.hist(songs_df['tempo'], bins=20, alpha=0.7)\n",
    "plt.xlabel('Tempo (BPM)')\n",
    "plt.title('Tempo Distribution')\n",
    "\n",
    "# Energy vs Danceability\n",
    "plt.subplot(2, 3, 4)\n",
    "plt.scatter(songs_df['energy'], songs_df['danceability'], alpha=0.7)\n",
    "plt.xlabel('Energy')\n",
    "plt.ylabel('Danceability')\n",
    "plt.title('Energy vs Danceability')\n",
    "\n",
    "# Correlation heatmap\n",
    "plt.subplot(2, 3, 5)\n",
    "audio_features = ['valence', 'arousal', 'tempo', 'energy', 'danceability']\n",
    "corr_matrix = songs_df[audio_features].corr()\n",
    "sns.heatmap(corr_matrix, annot=True, cmap='coolwarm', center=0)\n",
    "plt.title('Feature Correlation')\n",
    "\n",
    "plt.tight_layout()\n",
    "plt.show()"
   ]
  },
  {
   "cell_type": "markdown",
   "metadata": {},
   "source": [
    "## 4. Recommendation Testing"
   ]
  },
  {
   "cell_type": "code",
   "execution_count": null,
   "metadata": {},
   "outputs": [],
   "source": [
    "# Test recommendations for different emotions\n",
    "emotions = ['happy', 'sad', 'calm', 'energetic']\n",
    "\n",
    "for emotion in emotions:\n",
    "    print(f\"\\n=== {emotion.upper()} RECOMMENDATIONS ===\")\n",
    "    recommendations = recommender.recommend_by_emotion(emotion, 5)\n",
    "    \n",
    "    for i, song in enumerate(recommendations, 1):\n",
    "        print(f\"{i}. {song['title']} by {song['artist']}\")\n",
    "        print(f\"   Valence: {song['valence']:.2f}, Arousal: {song['arousal']:.2f}\")"
   ]
  },
  {
   "cell_type": "markdown",
   "metadata": {},
   "source": [
    "## 5. Mood Regulation Analysis"
   ]
  },
  {
   "cell_type": "code",
   "execution_count": null,
   "metadata": {},
   "outputs": [],
   "source": [
    "# Compare 'match' vs 'boost' strategies\n",
    "target_emotion = 'sad'\n",
    "\n",
    "print(\"MATCH MOOD (songs that match current sad mood):\")\n",
    "match_recs = recommender.recommend_by_emotion(target_emotion, 5, 'match')\n",
    "for i, song in enumerate(match_recs, 1):\n",
    "    print(f\"{i}. {song['title']} - Emotion: {song['emotion']}\")\n",
    "\n",
    "print(\"\\nBOOST MOOD (songs to improve sad mood):\")\n",
    "boost_recs = recommender.recommend_by_emotion(target_emotion, 5, 'boost')\n",
    "for i, song in enumerate(boost_recs, 1):\n",
    "    print(f\"{i}. {song['title']} - Emotion: {song['emotion']}\")"
   ]
  }
 ],
 "metadata": {
  "kernelspec": {
   "display_name": "Python 3",
   "language": "python",
   "name": "python3"
  },
  "language_info": {
   "codemirror_mode": {
    "name": "ipython",
    "version": 3
   },
   "file_extension": ".py",
   "mimetype": "text/x-python",
   "name": "python",
   "nbconvert_exporter": "python",
   "pygments_lexer": "ipython3",
   "version": "3.8.5"
  }
 },
 "nbformat": 4,
 "nbformat_minor": 4
}